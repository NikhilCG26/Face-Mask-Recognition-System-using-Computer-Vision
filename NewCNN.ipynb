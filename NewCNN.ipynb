{
 "cells": [
  {
   "cell_type": "code",
   "execution_count": 2,
   "metadata": {},
   "outputs": [],
   "source": [
    "import matplotlib.pyplot as plt\n",
    "import matplotlib.image as mpimg\n",
    "\n",
    "import numpy as np\n",
    "import pandas as pd\n",
    "import os\n",
    "from PIL import Image\n",
    "import tensorflow as tf\n",
    "from bs4 import BeautifulSoup\n",
    "import cv2\n",
    "import random as rand\n",
    "\n",
    "\n",
    "from tensorflow import keras\n",
    "from tensorflow.keras import layers\n",
    "from tensorflow.keras.models import Sequential\n",
    "from tensorflow.keras.preprocessing.image import ImageDataGenerator\n",
    "from tensorflow.keras.preprocessing.image import array_to_img, img_to_array, load_img\n",
    "\n",
    "from tensorflow.keras.applications.inception_v3 import InceptionV3\n",
    "from tensorflow.keras.applications.inception_v3 import preprocess_input\n",
    "\n",
    "from tensorflow.keras.layers import AveragePooling2D\n",
    "from tensorflow.keras.layers import Dropout,BatchNormalization\n",
    "from tensorflow.keras.layers import Flatten\n",
    "from tensorflow.keras.layers import Dense\n",
    "from tensorflow.keras.layers import Input\n",
    "from tensorflow.keras.models import Model\n",
    "from tensorflow.keras.optimizers import Adam\n",
    "\n",
    "from tensorflow.keras.utils import to_categorical\n",
    "from sklearn.preprocessing import LabelEncoder\n",
    "from sklearn.model_selection import train_test_split\n",
    "from sklearn.metrics import classification_report"
   ]
  },
  {
   "cell_type": "code",
   "execution_count": 3,
   "metadata": {},
   "outputs": [],
   "source": [
    "def generate_box(obj):\n",
    "    \n",
    "    xmin = int(obj.find('xmin').text)\n",
    "    ymin = int(obj.find('ymin').text)\n",
    "    xmax = int(obj.find('xmax').text)\n",
    "    ymax = int(obj.find('ymax').text)\n",
    "    \n",
    "    return [xmin, ymin, xmax, ymax]\n",
    "\n",
    "def generate_label(obj):\n",
    "    if obj.find('name').text == \"with_mask\":\n",
    "        return 1\n",
    "    elif obj.find('name').text == \"mask_weared_incorrect\":\n",
    "        return 2\n",
    "    return 0\n",
    "\n",
    "def generate_target(image_id, file): \n",
    "    with open(file) as f:\n",
    "        data = f.read()\n",
    "        soup = BeautifulSoup(data, 'xml')\n",
    "        objects = soup.find_all('object')\n",
    "\n",
    "        num_objs = len(objects)\n",
    "\n",
    "        # Bounding boxes for objects\n",
    "\n",
    "        boxes = []\n",
    "        labels = []\n",
    "        for i in objects:\n",
    "            boxes.append(generate_box(i))\n",
    "            labels.append(generate_label(i))\n",
    "            \n",
    "        boxes = np.array(boxes)\n",
    "        labels = np.array(labels)\n",
    "        img_id = np.array(image_id)\n",
    "        # Annotation is in dictionary format\n",
    "        target = {}\n",
    "        target[\"boxes\"] = boxes\n",
    "        target[\"labels\"] = labels\n",
    "        target[\"image_id\"] = img_id\n",
    "\n",
    "        \n",
    "        return (target,num_objs)\n"
   ]
  },
  {
   "cell_type": "code",
   "execution_count": 4,
   "metadata": {},
   "outputs": [],
   "source": [
    "data_dir=\"C:/Users/srira/Documents/Python/ImageClassification/NewCNN/MaskPascalVOC\"\n",
    "imgs_dir=os.path.join(data_dir,\"images\")\n",
    "labels_dir=os.path.join(data_dir,\"annotations\")\n",
    "\n",
    "imgs = list(sorted(os.listdir(imgs_dir)))\n",
    "labels = list(sorted(os.listdir(labels_dir)))\n"
   ]
  },
  {
   "cell_type": "code",
   "execution_count": 5,
   "metadata": {},
   "outputs": [],
   "source": [
    "\n",
    "targets=[]\n",
    "numobjs=[]\n",
    "\n",
    "for i in range(853):\n",
    "    file_image = 'maksssksksss'+ str(i) + '.png'\n",
    "    file_label = 'maksssksksss'+ str(i) + '.xml'\n",
    "    img_path = os.path.join(imgs_dir, file_image)\n",
    "    label_path = os.path.join(labels_dir, file_label)\n",
    "    \n",
    "    #Generate Label\n",
    "    target,numobj = generate_target(i, label_path)\n",
    "    targets.append(target)\n",
    "    numobjs.append(numobj)"
   ]
  },
  {
   "cell_type": "code",
   "execution_count": 6,
   "metadata": {},
   "outputs": [],
   "source": [
    "face_images=[]\n",
    "face_labels=[]\n",
    "for i in range(853):\n",
    "    file_image = 'maksssksksss'+ str(i) + '.png'\n",
    "    img_path = os.path.join(imgs_dir, file_image)\n",
    "    #read image\n",
    "    img = cv2.imread(img_path)\n",
    "    for j in range(numobjs[i]):\n",
    "        #get coordinates of ith image in list \n",
    "        locs=(targets[i]['boxes'][j])\n",
    "        #Get the face from the image using the coordinates\n",
    "        #the arguments are as ymin , ymax and xmin xmax\n",
    "        img1=img[locs[1]:locs[3],locs[0]:locs[2]]\n",
    "        img1 = cv2.resize(img1, (224, 224))\n",
    "        img1 = img_to_array(img1)\n",
    "          \n",
    "        img1 = preprocess_input(img1)\n",
    "          \n",
    "        face_images.append(img1)\n",
    "        face_labels.append(targets[i]['labels'][j])\n",
    "\n",
    "face_images= np.array(face_images, dtype=\"float32\")\n",
    "face_labels = np.array(face_labels)"
   ]
  },
  {
   "cell_type": "code",
   "execution_count": 7,
   "metadata": {},
   "outputs": [],
   "source": [
    "lb = LabelEncoder()\n",
    "labels = lb.fit_transform(face_labels)\n",
    "labels = to_categorical(labels)\n"
   ]
  },
  {
   "cell_type": "code",
   "execution_count": 8,
   "metadata": {},
   "outputs": [],
   "source": [
    "aug = ImageDataGenerator(\n",
    "    zoom_range=0.1,\n",
    "    rotation_range=25,\n",
    "    width_shift_range=0.1,\n",
    "    height_shift_range=0.1,\n",
    "    shear_range=0.15,\n",
    "    horizontal_flip=True,\n",
    "    fill_mode=\"nearest\"\n",
    "    )"
   ]
  },
  {
   "cell_type": "code",
   "execution_count": 9,
   "metadata": {},
   "outputs": [],
   "source": [
    "baseModel = InceptionV3(\n",
    "    input_shape=(224, 224, 3), include_top=False, weights=\"imagenet\")\n",
    "\n",
    "headModel = baseModel.output\n",
    "headModel = AveragePooling2D(pool_size=(5, 5))(headModel)\n",
    "headModel = Flatten(name=\"flatten\")(headModel)\n",
    "headModel = Dense(256, activation=\"relu\")(headModel)\n",
    "headModel = Dropout(0.25)(headModel)\n",
    "headModel = Dense(3, activation=\"softmax\")(headModel)\n",
    "\n",
    "model = Model(inputs=baseModel.input, outputs=headModel)\n",
    "\n",
    "for layer in baseModel.layers:\n",
    "    layer.trainable = False"
   ]
  },
  {
   "cell_type": "code",
   "execution_count": 13,
   "metadata": {},
   "outputs": [],
   "source": [
    "#define the hyperparamets for traing te neural network\n",
    "INIT_LR = 1e-4\n",
    "EPOCHS = 10\n",
    "BS = 32"
   ]
  },
  {
   "cell_type": "code",
   "execution_count": 14,
   "metadata": {},
   "outputs": [],
   "source": [
    "#divide data into training and testing sets\n",
    "(trainX, testX, trainY, testY) = train_test_split(face_images, labels,\n",
    "    test_size=0.2, stratify=labels, random_state=42)\n"
   ]
  },
  {
   "cell_type": "code",
   "execution_count": 15,
   "metadata": {},
   "outputs": [
    {
     "name": "stdout",
     "output_type": "stream",
     "text": [
      "Epoch 1/10\n",
      "101/101 [==============================] - 47s 465ms/step - loss: 0.5157 - accuracy: 0.8198 - val_loss: 0.3610 - val_accuracy: 0.8883\n",
      "Epoch 2/10\n",
      "101/101 [==============================] - 36s 359ms/step - loss: 0.3627 - accuracy: 0.8688 - val_loss: 0.3104 - val_accuracy: 0.8957\n",
      "Epoch 3/10\n",
      "101/101 [==============================] - 37s 363ms/step - loss: 0.3282 - accuracy: 0.8878 - val_loss: 0.2840 - val_accuracy: 0.9067\n",
      "Epoch 4/10\n",
      "101/101 [==============================] - 36s 361ms/step - loss: 0.2984 - accuracy: 0.8943 - val_loss: 0.2708 - val_accuracy: 0.9055\n",
      "Epoch 5/10\n",
      "101/101 [==============================] - 37s 362ms/step - loss: 0.2889 - accuracy: 0.9033 - val_loss: 0.2457 - val_accuracy: 0.9153\n",
      "Epoch 6/10\n",
      "101/101 [==============================] - 37s 362ms/step - loss: 0.2681 - accuracy: 0.9033 - val_loss: 0.2430 - val_accuracy: 0.9092\n",
      "Epoch 7/10\n",
      "101/101 [==============================] - 37s 363ms/step - loss: 0.2677 - accuracy: 0.9119 - val_loss: 0.2462 - val_accuracy: 0.9129\n",
      "Epoch 8/10\n",
      "101/101 [==============================] - 37s 366ms/step - loss: 0.2662 - accuracy: 0.9132 - val_loss: 0.2290 - val_accuracy: 0.9129\n",
      "Epoch 9/10\n",
      "101/101 [==============================] - 37s 364ms/step - loss: 0.2415 - accuracy: 0.9147 - val_loss: 0.2378 - val_accuracy: 0.9080\n",
      "Epoch 10/10\n",
      "101/101 [==============================] - 37s 363ms/step - loss: 0.2400 - accuracy: 0.9166 - val_loss: 0.2191 - val_accuracy: 0.9264\n"
     ]
    }
   ],
   "source": [
    "#Complie the model and train it\n",
    "opt = Adam(lr=INIT_LR, decay=INIT_LR / EPOCHS)\n",
    "model.compile(loss=\"categorical_crossentropy\", optimizer=opt,\n",
    "    metrics=[\"accuracy\"])\n",
    "\n",
    "# train the head of the network\n",
    "H = model.fit(\n",
    "    aug.flow(trainX, trainY, batch_size=BS),\n",
    "    steps_per_epoch=len(trainX) // BS,\n",
    "    validation_data=(testX, testY),\n",
    "    validation_steps=len(testX) // BS,\n",
    "    epochs=EPOCHS)\n",
    "    #class_weight = {0:5 , 1:1, 2:10}"
   ]
  },
  {
   "cell_type": "code",
   "execution_count": 16,
   "metadata": {},
   "outputs": [
    {
     "name": "stdout",
     "output_type": "stream",
     "text": [
      "[INFO] evaluating network...\n",
      "              precision    recall  f1-score   support\n",
      "\n",
      "           0       0.88      0.83      0.86       143\n",
      "           1       0.94      0.97      0.95       647\n",
      "           2       0.73      0.32      0.44        25\n",
      "\n",
      "    accuracy                           0.93       815\n",
      "   macro avg       0.85      0.71      0.75       815\n",
      "weighted avg       0.92      0.93      0.92       815\n",
      "\n"
     ]
    },
    {
     "data": {
      "image/png": "[encoded data removed]",
      "text/plain": [
       "<Figure size 432x288 with 1 Axes>"
      ]
     },
     "metadata": {},
     "output_type": "display_data"
    }
   ],
   "source": [
    "print(\"[INFO] evaluating network...\")\n",
    "predIdxs = model.predict(testX, batch_size=32)\n",
    "\n",
    "# for each image in the testing set we need to find the index of the\n",
    "# label with corresponding largest predicted probability\n",
    "predIdxs = np.argmax(predIdxs, axis=1)\n",
    "\n",
    "# show a nicely formatted classification report\n",
    "print(classification_report(testY.argmax(axis=1), predIdxs\n",
    "    ))\n",
    "\n",
    "# # serialize the model to disk\n",
    "# print(\"[INFO] saving mask detector model...\")\n",
    "\n",
    "# plot the training loss and accuracy\n",
    "N = EPOCHS\n",
    "plt.style.use(\"ggplot\")\n",
    "plt.figure()\n",
    "plt.plot(np.arange(0, N), H.history[\"loss\"], label=\"train_loss\")\n",
    "plt.plot(np.arange(0, N), H.history[\"val_loss\"], label=\"val_loss\")\n",
    "plt.plot(np.arange(0, N), H.history[\"accuracy\"], label=\"train_acc\")\n",
    "plt.plot(np.arange(0, N), H.history[\"val_accuracy\"], label=\"val_acc\")\n",
    "plt.title(\"Training Loss and Accuracy\")\n",
    "plt.xlabel(\"Epoch #\")\n",
    "plt.ylabel(\"Loss/Accuracy\")\n",
    "plt.legend(loc=\"lower left\")\n",
    "plt.show()"
   ]
  },
  {
   "cell_type": "code",
   "execution_count": 24,
   "metadata": {},
   "outputs": [],
   "source": [
    "model.save('imagenet_model.h5')"
   ]
  },
  {
   "cell_type": "code",
   "execution_count": 3,
   "metadata": {
    "scrolled": false
   },
   "outputs": [],
   "source": [
    "model = tf.keras.models.load_model('imagenet_model.h5')"
   ]
  },
  {
   "cell_type": "code",
   "execution_count": 28,
   "metadata": {},
   "outputs": [
    {
     "name": "stdout",
     "output_type": "stream",
     "text": [
      "[INFO] compiling model...\n",
      "[INFO] training head...\n",
      "Epoch 1/10\n",
      "101/101 [==============================] - 39s 384ms/step - loss: 0.2320 - accuracy: 0.9153 - val_loss: 0.2320 - val_accuracy: 0.9141\n",
      "Epoch 2/10\n",
      "101/101 [==============================] - 39s 386ms/step - loss: 0.2336 - accuracy: 0.9212 - val_loss: 0.2176 - val_accuracy: 0.9288\n",
      "Epoch 3/10\n",
      "101/101 [==============================] - 37s 363ms/step - loss: 0.2158 - accuracy: 0.9281 - val_loss: 0.2286 - val_accuracy: 0.9202\n",
      "Epoch 4/10\n",
      "101/101 [==============================] - 37s 366ms/step - loss: 0.2232 - accuracy: 0.9178 - val_loss: 0.2105 - val_accuracy: 0.9276\n",
      "Epoch 5/10\n",
      "101/101 [==============================] - 37s 369ms/step - loss: 0.2224 - accuracy: 0.9271 - val_loss: 0.2064 - val_accuracy: 0.9276\n",
      "Epoch 6/10\n",
      "101/101 [==============================] - 38s 374ms/step - loss: 0.2121 - accuracy: 0.9262 - val_loss: 0.2130 - val_accuracy: 0.9227\n",
      "Epoch 7/10\n",
      "101/101 [==============================] - 37s 368ms/step - loss: 0.2072 - accuracy: 0.9240 - val_loss: 0.2111 - val_accuracy: 0.9215\n",
      "Epoch 8/10\n",
      "101/101 [==============================] - 37s 365ms/step - loss: 0.1960 - accuracy: 0.9321 - val_loss: 0.2039 - val_accuracy: 0.9276\n",
      "Epoch 9/10\n",
      "101/101 [==============================] - 37s 363ms/step - loss: 0.2009 - accuracy: 0.9268 - val_loss: 0.1970 - val_accuracy: 0.9374\n",
      "Epoch 10/10\n",
      "101/101 [==============================] - 37s 367ms/step - loss: 0.2009 - accuracy: 0.9296 - val_loss: 0.1926 - val_accuracy: 0.9350\n"
     ]
    }
   ],
   "source": [
    "#train the saved model again \n",
    "print(\"[INFO] compiling model...\")\n",
    "opt = Adam(lr=INIT_LR, decay=INIT_LR / EPOCHS)\n",
    "model.compile(loss=\"categorical_crossentropy\", optimizer=opt,\n",
    "    metrics=[\"accuracy\"])\n",
    "\n",
    "# train the head of the network\n",
    "print(\"[INFO] training head...\")\n",
    "H = model.fit(\n",
    "    aug.flow(trainX, trainY, batch_size=BS),\n",
    "    steps_per_epoch=len(trainX) // BS,\n",
    "    validation_data=(testX, testY),\n",
    "    validation_steps=len(testX) // BS,\n",
    "    epochs=EPOCHS)"
   ]
  },
  {
   "cell_type": "code",
   "execution_count": 29,
   "metadata": {},
   "outputs": [
    {
     "name": "stdout",
     "output_type": "stream",
     "text": [
      "[INFO] evaluating network...\n",
      "              precision    recall  f1-score   support\n",
      "\n",
      "           0       0.88      0.90      0.89       143\n",
      "           1       0.95      0.97      0.96       647\n",
      "           2       0.67      0.32      0.43        25\n",
      "\n",
      "    accuracy                           0.93       815\n",
      "   macro avg       0.83      0.73      0.76       815\n",
      "weighted avg       0.93      0.93      0.93       815\n",
      "\n"
     ]
    },
    {
     "data": {
      "image/png": "[encoded data removed]",
      "text/plain": [
       "<Figure size 432x288 with 1 Axes>"
      ]
     },
     "metadata": {},
     "output_type": "display_data"
    }
   ],
   "source": [
    "#Evaluate the model again\n",
    "print(\"[INFO] evaluating network...\")\n",
    "predIdxs = model.predict(testX, batch_size=32)\n",
    "\n",
    "# for each image in the testing set we need to find the index of the\n",
    "# label with corresponding largest predicted probability\n",
    "predIdxs = np.argmax(predIdxs, axis=1)\n",
    "\n",
    "# show a nicely formatted classification report\n",
    "print(classification_report(testY.argmax(axis=1), predIdxs\n",
    "\t))\n",
    "\n",
    "# # serialize the model to disk\n",
    "# print(\"[INFO] saving mask detector model...\")\n",
    "\n",
    "# plot the training loss and accuracy\n",
    "N = EPOCHS\n",
    "plt.style.use(\"ggplot\")\n",
    "plt.figure()\n",
    "plt.plot(np.arange(0, N), H.history[\"loss\"], label=\"train_loss\")\n",
    "plt.plot(np.arange(0, N), H.history[\"val_loss\"], label=\"val_loss\")\n",
    "plt.plot(np.arange(0, N), H.history[\"accuracy\"], label=\"train_acc\")\n",
    "plt.plot(np.arange(0, N), H.history[\"val_accuracy\"], label=\"val_acc\")\n",
    "plt.title(\"Training Loss and Accuracy\")\n",
    "plt.xlabel(\"Epoch #\")\n",
    "plt.ylabel(\"Loss/Accuracy\")\n",
    "plt.legend(loc=\"lower left\")\n",
    "plt.show()"
   ]
  },
  {
   "cell_type": "code",
   "execution_count": 4,
   "metadata": {
    "scrolled": true
   },
   "outputs": [
    {
     "ename": "ValueError",
     "evalue": "The truth value of an array with more than one element is ambiguous. Use a.any() or a.all()",
     "output_type": "error",
     "traceback": [
      "\u001b[1;31m---------------------------------------------------------------------------\u001b[0m",
      "\u001b[1;31mValueError\u001b[0m                                Traceback (most recent call last)",
      "\u001b[1;32m<ipython-input-4-946d88a016f5>\u001b[0m in \u001b[0;36m<module>\u001b[1;34m\u001b[0m\n\u001b[0;32m     31\u001b[0m             \u001b[0mimage\u001b[0m \u001b[1;33m=\u001b[0m \u001b[0mpreprocess_input\u001b[0m\u001b[1;33m(\u001b[0m\u001b[0mimage\u001b[0m\u001b[1;33m)\u001b[0m\u001b[1;33m\u001b[0m\u001b[1;33m\u001b[0m\u001b[0m\n\u001b[0;32m     32\u001b[0m \u001b[1;33m\u001b[0m\u001b[0m\n\u001b[1;32m---> 33\u001b[1;33m             \u001b[1;32mif\u001b[0m\u001b[1;33m(\u001b[0m\u001b[0mmodel\u001b[0m\u001b[1;33m.\u001b[0m\u001b[0mpredict\u001b[0m\u001b[1;33m(\u001b[0m\u001b[0mimage\u001b[0m\u001b[1;33m)\u001b[0m\u001b[1;33m[\u001b[0m\u001b[1;36m0\u001b[0m\u001b[1;33m]\u001b[0m\u001b[1;33m==\u001b[0m\u001b[1;36m1\u001b[0m\u001b[1;33m)\u001b[0m\u001b[1;33m:\u001b[0m\u001b[1;33m\u001b[0m\u001b[1;33m\u001b[0m\u001b[0m\n\u001b[0m\u001b[0;32m     34\u001b[0m                 \u001b[0mcv2\u001b[0m\u001b[1;33m.\u001b[0m\u001b[0mrectangle\u001b[0m\u001b[1;33m(\u001b[0m\u001b[0mframe\u001b[0m\u001b[1;33m,\u001b[0m \u001b[1;33m(\u001b[0m\u001b[0mstartX\u001b[0m\u001b[1;33m,\u001b[0m \u001b[0mstartY\u001b[0m\u001b[1;33m)\u001b[0m\u001b[1;33m,\u001b[0m \u001b[1;33m(\u001b[0m\u001b[0mendX\u001b[0m\u001b[1;33m,\u001b[0m \u001b[0mendY\u001b[0m\u001b[1;33m)\u001b[0m\u001b[1;33m,\u001b[0m \u001b[1;33m(\u001b[0m\u001b[1;36m0\u001b[0m\u001b[1;33m,\u001b[0m\u001b[1;36m255\u001b[0m\u001b[1;33m,\u001b[0m\u001b[1;36m0\u001b[0m\u001b[1;33m)\u001b[0m\u001b[1;33m,\u001b[0m \u001b[1;36m2\u001b[0m\u001b[1;33m)\u001b[0m\u001b[1;33m\u001b[0m\u001b[1;33m\u001b[0m\u001b[0m\n\u001b[0;32m     35\u001b[0m             \u001b[1;32melif\u001b[0m\u001b[1;33m(\u001b[0m\u001b[0mmodel\u001b[0m\u001b[1;33m.\u001b[0m\u001b[0mpredict\u001b[0m\u001b[1;33m(\u001b[0m\u001b[0mimage\u001b[0m\u001b[1;33m)\u001b[0m\u001b[1;33m[\u001b[0m\u001b[1;36m0\u001b[0m\u001b[1;33m]\u001b[0m\u001b[1;33m==\u001b[0m\u001b[1;36m2\u001b[0m\u001b[1;33m)\u001b[0m\u001b[1;33m:\u001b[0m\u001b[1;33m\u001b[0m\u001b[1;33m\u001b[0m\u001b[0m\n",
      "\u001b[1;31mValueError\u001b[0m: The truth value of an array with more than one element is ambiguous. Use a.any() or a.all()"
     ]
    }
   ],
   "source": []
  },
  {
   "cell_type": "code",
   "execution_count": null,
   "metadata": {},
   "outputs": [],
   "source": []
  }
 ],
 "metadata": {
  "kernelspec": {
   "display_name": "Python 3",
   "language": "python",
   "name": "python3"
  },
  "language_info": {
   "codemirror_mode": {
    "name": "ipython",
    "version": 3
   },
   "file_extension": ".py",
   "mimetype": "text/x-python",
   "name": "python",
   "nbconvert_exporter": "python",
   "pygments_lexer": "ipython3",
   "version": "3.7.7"
  }
 },
 "nbformat": 4,
 "nbformat_minor": 4
}
